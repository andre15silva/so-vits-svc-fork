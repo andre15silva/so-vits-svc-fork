{
 "cells": [
  {
   "cell_type": "markdown",
   "metadata": {},
   "source": [
    "# Zeca Afonso\n",
    "\n",
    "In this notebook we train a voice conversion model for Zeca Afonso.\n",
    "\n",
    "The notebook works in three parts:\n",
    "1. Preparing the training dataset\n",
    "2. Training the voice conversion model\n",
    "3. Inference with the voice conversion model"
   ]
  },
  {
   "cell_type": "markdown",
   "metadata": {},
   "source": [
    "## 1. Preparing the training dataset\n",
    "\n",
    "### 1.1 Extract voice from Zeca Afonso's discography\n",
    "\n",
    "The first step is to extract the voice from the songs. We will use the [`demucs`](https://github.com/facebookresearch/demucs) Hybrid Transformer model. "
   ]
  },
  {
   "cell_type": "code",
   "execution_count": null,
   "metadata": {},
   "outputs": [],
   "source": [
    "import subprocess\n",
    "import tqdm\n",
    "from pathlib import Path\n",
    "\n",
    "# Iterate over the discography containing opus and mp3 files\n",
    "for song in tqdm.tqdm(Path(\"dataset/zeca/discography\").rglob(\"*.opus\") | Path(\"dataset/zeca/discography\").rglob(\"*.mp3\")):\n",
    "    command = f\"demucs --two-stems=vocals {song} --out \\\"dataset/zeca/discography_vocals\\\" --filename \\\"{song.stem}.wav\\\"\"\n",
    "    print(command)"
   ]
  },
  {
   "cell_type": "code",
   "execution_count": null,
   "metadata": {},
   "outputs": [],
   "source": []
  }
 ],
 "metadata": {
  "language_info": {
   "name": "python"
  }
 },
 "nbformat": 4,
 "nbformat_minor": 2
}
